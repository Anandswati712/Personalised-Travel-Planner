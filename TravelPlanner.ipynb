{
 "cells": [
  {
   "cell_type": "code",
   "execution_count": 1,
   "id": "c886ae46",
   "metadata": {},
   "outputs": [
    {
     "name": "stderr",
     "output_type": "stream",
     "text": [
      "/home/swana/.local/lib/python3.10/site-packages/tqdm/auto.py:21: TqdmWarning: IProgress not found. Please update jupyter and ipywidgets. See https://ipywidgets.readthedocs.io/en/stable/user_install.html\n",
      "  from .autonotebook import tqdm as notebook_tqdm\n"
     ]
    }
   ],
   "source": [
    "import os\n",
    "from typing import TypedDict, Annotated, List\n",
    "from langgraph.graph import StateGraph, END\n",
    "from langchain_core.messages import HumanMessage, AIMessage\n",
    "from langchain_core.prompts import ChatMessagePromptTemplate\n",
    "from langchain_core.runnables.graph import MermaidDrawMethod\n",
    "from IPython.display import display, Image\n",
    "from langchain_groq import ChatGroq\n",
    "import gradio as gr\n"
   ]
  },
  {
   "cell_type": "markdown",
   "id": "ec408829",
   "metadata": {},
   "source": [
    "Define Agents"
   ]
  },
  {
   "cell_type": "markdown",
   "id": "edf4699d",
   "metadata": {},
   "source": [
    "StateGraph: The core of our application defining the flow of Travel Planner.\n",
    "PlannerState: A custom type representing the state of our planning process.\n",
    " "
   ]
  },
  {
   "cell_type": "code",
   "execution_count": 2,
   "id": "ad0e6fd9",
   "metadata": {},
   "outputs": [],
   "source": [
    "class PlannerState(TypedDict):\n",
    "    \"\"\"State for the planner graph.\"\"\"\n",
    "    messages : Annotated[List[HumanMessage | AIMessage], \"List of messages in the conversation.\"]\n",
    "    \"\"\"City to plan the trip to.\"\"\"\n",
    "    city : str\n",
    "    \"\"\"List of the places to visit.\"\"\"\n",
    "    interests : List[str]\n",
    "    itinerary : str\n",
    "    "
   ]
  },
  {
   "cell_type": "markdown",
   "id": "b76fc40a",
   "metadata": {},
   "source": [
    "Node Functions: Steps in the planning process"
   ]
  },
  {
   "cell_type": "code",
   "execution_count": 3,
   "id": "ce6839a8",
   "metadata": {},
   "outputs": [],
   "source": [
    "from Key import GROQ_API_KEY\n",
    "llm = ChatGroq(\n",
    "    # model=\"groq/llama-3.1-70b-chat\",\n",
    "    model = \"llama-3.3-70b-versatile\",\n",
    "    temperature=0.1,\n",
    "    max_tokens=1000,\n",
    "    groq_api_key=GROQ_API_KEY,\n",
    ")\n"
   ]
  },
  {
   "cell_type": "code",
   "execution_count": 4,
   "id": "901f568f",
   "metadata": {},
   "outputs": [],
   "source": [
    "from langchain.prompts import ChatPromptTemplate\n",
    "itinerary_prompt = ChatPromptTemplate.from_messages([\n",
    "    {\n",
    "        \"role\": \"system\",\n",
    "        \"content\": \"You are a helpful assistant that plans trips. Create a trip itinerary for the {city} based on the user's {interests}. Also provide a brief description of each place, and suggest places to eat accordingly (lunch, dinner) in a bulleted itinerary.\"\n",
    "    },\n",
    "    {\n",
    "        \"role\": \"human\",\n",
    "        \"content\": \"Plan a trip to {city} for the places I want to visit.\"\n",
    "    }\n",
    "])"
   ]
  },
  {
   "cell_type": "markdown",
   "id": "89fb761e",
   "metadata": {},
   "source": [
    "Define agent funtions"
   ]
  },
  {
   "cell_type": "code",
   "execution_count": 5,
   "id": "ae8af15e",
   "metadata": {},
   "outputs": [],
   "source": [
    "def input_city(city: str, state: PlannerState) -> PlannerState:\n",
    "    \"\"\"Input the city to plan the trip to.\"\"\"\n",
    "    # user_message = input(\"Enter the city you want to plan a trip to: \")\n",
    "    return {\n",
    "        **state,\n",
    "        \"city\": city,\n",
    "        \"messages\" : state[\"messages\"] + [HumanMessage(content=city)]\n",
    "    }"
   ]
  },
  {
   "cell_type": "code",
   "execution_count": 6,
   "id": "b5fdccc8",
   "metadata": {},
   "outputs": [],
   "source": [
    "def input_interest(interests: str, state: PlannerState) -> PlannerState:\n",
    "    # user_message = input(\"Enter your interest for the trip to:(comma-separated): \")\n",
    "    return {\n",
    "        **state,\n",
    "        \"interests\": [interest.strip() for interest in interests.split(\",\")],\n",
    "        \"messages\" : state[\"messages\"] + [HumanMessage(content=interests)]\n",
    "    }"
   ]
  },
  {
   "cell_type": "code",
   "execution_count": 13,
   "id": "96005ca4",
   "metadata": {},
   "outputs": [],
   "source": [
    "def create_itinerary(state: PlannerState) -> str:\n",
    "    # print(f\"Creating itinerary... Please wait. {state['city']} on given interests :{state['interests']}\")\n",
    "    response = llm.invoke(\n",
    "        itinerary_prompt.format_messages(\n",
    "            city=state[\"city\"],\n",
    "            interests=\", \".join(state[\"interests\"])\n",
    "        )\n",
    "    )\n",
    "    # print(\"Itinerary created successfully!\")\n",
    "    # print(response.content)\n",
    "    state[\"itinerary\"] = response.content.split(\"\\n\")\n",
    "    state[\"messages\"].append(AIMessage(content=response.content))\n",
    "    \n",
    "    \n",
    "    \n",
    "    # Return the updated state with the itinerary\n",
    "    # return {\n",
    "    #     **state,\n",
    "    #     \"itinerary\": response.content.split(\"\\n\"),\n",
    "    #     \"messages\": state[\"messages\"] + [AIMessage(content=response.content)]\n",
    "    # }\n",
    "    return response.content"
   ]
  },
  {
   "cell_type": "code",
   "execution_count": 14,
   "id": "0a18fd10",
   "metadata": {},
   "outputs": [],
   "source": [
    "workflow = StateGraph(PlannerState) \\\n",
    "    .add_node(\"input_city\", input_city) \\\n",
    "    .add_node(\"input_interest\", input_interest) \\\n",
    "    .add_node(\"create_itinerary\", create_itinerary) \\\n",
    "    .set_entry_point(\"input_city\") \\\n",
    "    # .set_end(END) \n",
    "    \n",
    "workflow.add_edge(\"input_city\", \"input_interest\") \\\n",
    "    .add_edge(\"input_interest\", \"create_itinerary\")\\\n",
    "        .add_edge(\"create_itinerary\", END)\n",
    "        \n",
    "app = workflow.compile()\n"
   ]
  },
  {
   "cell_type": "code",
   "execution_count": 15,
   "id": "21330c07",
   "metadata": {},
   "outputs": [
    {
     "data": {
      "image/png": "[encoded data removed]",
      "text/plain": [
       "<IPython.core.display.Image object>"
      ]
     },
     "metadata": {},
     "output_type": "display_data"
    }
   ],
   "source": [
    "display(\n",
    "    Image(\n",
    "        app.get_graph().draw_mermaid_png(\n",
    "            draw_method=MermaidDrawMethod.API,\n",
    "            # graph_style=\"default\",\n",
    "            # graph_name=\"Travel Planner Workflow\"\n",
    "        )\n",
    "    )\n",
    ")"
   ]
  },
  {
   "cell_type": "markdown",
   "id": "c5381f08",
   "metadata": {},
   "source": [
    "###Function to run the graph\n"
   ]
  },
  {
   "cell_type": "code",
   "execution_count": 16,
   "id": "5b429a38",
   "metadata": {},
   "outputs": [],
   "source": [
    "def create_planner_graph(city: str, interests: str):\n",
    "    # \"\"\"Create the planner graph.\"\"\"\n",
    "    # print(f\"Initial request: {user_request}\")\n",
    "    state = {\n",
    "        # \"messages\": [HumanMessage(content=user_request)],\n",
    "        \"messages\": [],\n",
    "        \"city\": \"\",\n",
    "        \"interests\": [],\n",
    "        \"itinerary\": \"\", \n",
    "    }\n",
    "\n",
    "    # for output in app.stream(state):\n",
    "    #     pass\n",
    "    state = input_city(city, state)\n",
    "    state = input_interest(interests, state)\n",
    "    itinerary = create_itinerary(state)\n",
    "    return itinerary"
   ]
  },
  {
   "cell_type": "code",
   "execution_count": 17,
   "id": "36b75f20",
   "metadata": {},
   "outputs": [],
   "source": [
    "# user_request = input(\"Enter your request for the trip planner: \")\n",
    "# create_planner_graph(user_request) "
   ]
  },
  {
   "cell_type": "code",
   "execution_count": 18,
   "id": "e2d87b90",
   "metadata": {},
   "outputs": [
    {
     "name": "stdout",
     "output_type": "stream",
     "text": [
      "* Running on local URL:  http://127.0.0.1:7861\n",
      "* To create a public link, set `share=True` in `launch()`.\n"
     ]
    },
    {
     "data": {
      "text/html": [
       "<div><iframe src=\"http://127.0.0.1:7861/\" width=\"100%\" height=\"500\" allow=\"autoplay; camera; microphone; clipboard-read; clipboard-write;\" frameborder=\"0\" allowfullscreen></iframe></div>"
      ],
      "text/plain": [
       "<IPython.core.display.HTML object>"
      ]
     },
     "metadata": {},
     "output_type": "display_data"
    },
    {
     "data": {
      "text/plain": []
     },
     "execution_count": 18,
     "metadata": {},
     "output_type": "execute_result"
    }
   ],
   "source": [
    "interface = gr.Interface(\n",
    "    fn=create_planner_graph,\n",
    "    inputs=[\n",
    "        gr.Textbox(label=\"City\", placeholder=\"Enter the city you want to plan a trip to\"),\n",
    "        gr.Textbox(label=\"Interests\", placeholder=\"Enter your interests (comma-separated)\"),\n",
    "    ],\n",
    "    outputs=[\n",
    "        gr.Textbox(label=\"Itinerary\", placeholder=\"Your trip itinerary will be displayed here\"),\n",
    "    ],\n",
    "    title=\"Travel Planner\",\n",
    "    description=\"Plan your personlized trip by entering a city and your interests.\",\n",
    "    \n",
    ")\n",
    "interface.launch()"
   ]
  },
  {
   "cell_type": "code",
   "execution_count": null,
   "id": "2526e697",
   "metadata": {},
   "outputs": [],
   "source": []
  }
 ],
 "metadata": {
  "kernelspec": {
   "display_name": "Python 3",
   "language": "python",
   "name": "python3"
  },
  "language_info": {
   "codemirror_mode": {
    "name": "ipython",
    "version": 3
   },
   "file_extension": ".py",
   "mimetype": "text/x-python",
   "name": "python",
   "nbconvert_exporter": "python",
   "pygments_lexer": "ipython3",
   "version": "3.10.12"
  }
 },
 "nbformat": 4,
 "nbformat_minor": 5
}
